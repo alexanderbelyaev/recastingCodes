{
 "cells": [
  {
   "cell_type": "code",
   "execution_count": 1,
   "metadata": {},
   "outputs": [
    {
     "name": "stdout",
     "output_type": "stream",
     "text": [
      "Welcome to JupyROOT 6.20/06\n"
     ]
    }
   ],
   "source": [
    "import sys,os,copy\n",
    "import numpy as np\n",
    "import ROOT\n",
    "from matplotlib import pyplot as plt\n",
    "import seaborn as sns\n",
    "sns.set() #Set style\n",
    "sns.set_style('ticks',{'font.family':'serif', 'font.serif':'Times New Roman'})\n",
    "sns.set_context('paper', font_scale=1.8)\n",
    "sns.set_palette(sns.color_palette(\"Paired\"))"
   ]
  },
  {
   "cell_type": "code",
   "execution_count": 2,
   "metadata": {},
   "outputs": [
    {
     "data": {
      "text/plain": [
       "0"
      ]
     },
     "execution_count": 2,
     "metadata": {},
     "output_type": "execute_result"
    }
   ],
   "source": [
    "ROOT.gSystem.Load(os.path.abspath(\"../Delphes/libDelphes.so\"))"
   ]
  },
  {
   "cell_type": "code",
   "execution_count": 3,
   "metadata": {},
   "outputs": [],
   "source": [
    "try:\n",
    "    ROOT.gInterpreter.Declare('#include \"classes/SortableObject.h\"')\n",
    "    ROOT.gInterpreter.Declare('#include \"classes/DelphesClasses.h\"')\n",
    "    ROOT.gInterpreter.Declare('#include \"external/ExRootAnalysis/ExRootTreeReader.h\"')\n",
    "except:\n",
    "    pass"
   ]
  },
  {
   "cell_type": "code",
   "execution_count": 4,
   "metadata": {},
   "outputs": [],
   "source": [
    "inputFile = '../data/chargino_DT_EW.root'\n",
    "\n",
    "froot = ROOT.TFile(inputFile,\"READ\")\n",
    "tree = froot.Get(\"Delphes\")\n",
    "\n",
    "numberOfEntries = tree.GetEntries()"
   ]
  },
  {
   "cell_type": "code",
   "execution_count": 5,
   "metadata": {},
   "outputs": [
    {
     "name": "stdout",
     "output_type": "stream",
     "text": [
      "5000\n"
     ]
    }
   ],
   "source": [
    "print(numberOfEntries)"
   ]
  },
  {
   "cell_type": "code",
   "execution_count": 6,
   "metadata": {},
   "outputs": [],
   "source": [
    "nb = tree.GetEntry(0)"
   ]
  },
  {
   "cell_type": "code",
   "execution_count": 7,
   "metadata": {},
   "outputs": [
    {
     "name": "stdout",
     "output_type": "stream",
     "text": [
      "2000\n",
      "1000024 22\n",
      "-1000024 22\n",
      "1000024 51\n",
      "-1000024 52\n",
      "1000024 44\n",
      "-1000024 44\n",
      "1000024 44\n",
      "-1000024 44\n",
      "1000024 44\n",
      "-1000024 44\n",
      "1000024 44\n",
      "-1000024 44\n",
      "1000024 51\n",
      "-1000024 52\n",
      "1000024 62\n",
      "-1000024 62\n"
     ]
    }
   ],
   "source": [
    "objects = tree.Particle\n",
    "new_objects = copy.deepcopy(objects)\n",
    "print(len(objects))\n",
    "for obj in new_objects:\n",
    "    if(abs(obj.PID) == 1000024):\n",
    "        print(obj.PID,obj.Status)\n"
   ]
  },
  {
   "cell_type": "code",
   "execution_count": 6,
   "metadata": {},
   "outputs": [],
   "source": [
    "# %% Loop over all events\n",
    "RDV = []\n",
    "DV = []\n",
    "for entry in range(0, numberOfEntries):\n",
    "    # Load selected branches with data from specified event\n",
    "    treeReader.ReadEntry(entry)\n",
    "\n",
    "    for iptc in range(0,particles.GetEntries()):\n",
    "        particle = particles.At(iptc)\n",
    "        if particle.Mass < 100.0 or abs(particle.PID) < 1000:\n",
    "            continue\n",
    "\n",
    "        #Get daughters\n",
    "        daughters = [particles.At(idaughter) for idaughter in range(particle.D1,particle.D2+1)]\n",
    "        #Skip cases in which daughter is the same as mother (intermediate state)\n",
    "        if any([d.PID == particle.PID for d in daughters]):\n",
    "            continue\n",
    "\n",
    "        #Compute the production vertex for the daughter (= decay vertex)\n",
    "        r = [np.sqrt(d.X**2 + d.Y**2 + d.Z**2) for d in daughters]\n",
    "        if np.std(r)/np.mean(r) > 0.01:\n",
    "            print('Daughters do not come from the same vertex. Skipping')\n",
    "            print(r)\n",
    "        else:\n",
    "            DV.append(np.mean(r))"
   ]
  },
  {
   "cell_type": "code",
   "execution_count": 7,
   "metadata": {},
   "outputs": [],
   "source": [
    "@np.vectorize\n",
    "def n0(r,width):\n",
    "    \"\"\"\n",
    "    :param r: distance (in mm)\n",
    "    \"\"\"\n",
    "    \n",
    "    ctau = 1.967e-13/width #c*tau in mm\n",
    "    return np.exp(-r/ctau)/ctau"
   ]
  },
  {
   "cell_type": "code",
   "execution_count": 8,
   "metadata": {},
   "outputs": [],
   "source": [
    "rpts = np.linspace(0,3000,1000)\n",
    "npts = n0(rpts,width = 6.582e-16)"
   ]
  },
  {
   "cell_type": "code",
   "execution_count": 9,
   "metadata": {},
   "outputs": [
    {
     "data": {
      "image/png": "[encoded data removed]",
      "text/plain": [
       "<Figure size 432x288 with 1 Axes>"
      ]
     },
     "metadata": {},
     "output_type": "display_data"
    }
   ],
   "source": [
    "plt.hist(DV,bins=100,density=True,histtype='step',linewidth=3)\n",
    "plt.plot(rpts,npts)\n",
    "plt.xlabel(r'$r_{DV}$ (mm)')\n",
    "plt.ylabel('Fraction of Events')\n",
    "# plt.yscale('log')\n",
    "# plt.xscale('log')\n",
    "plt.xlim(0,3000)\n",
    "# plt.ylim(1e-10,1e-2)\n",
    "plt.show()"
   ]
  },
  {
   "cell_type": "code",
   "execution_count": null,
   "metadata": {},
   "outputs": [],
   "source": []
  }
 ],
 "metadata": {
  "kernelspec": {
   "display_name": "Python 3",
   "language": "python",
   "name": "python3"
  },
  "language_info": {
   "codemirror_mode": {
    "name": "ipython",
    "version": 3
   },
   "file_extension": ".py",
   "mimetype": "text/x-python",
   "name": "python",
   "nbconvert_exporter": "python",
   "pygments_lexer": "ipython3",
   "version": "3.8.5"
  }
 },
 "nbformat": 4,
 "nbformat_minor": 4
}
