{
 "cells": [
  {
   "cell_type": "code",
   "execution_count": 1,
   "metadata": {},
   "outputs": [],
   "source": [
    "import glob\n",
    "from matplotlib import pyplot as plt\n",
    "import numpy as np\n",
    "import pyslha"
   ]
  },
  {
   "cell_type": "markdown",
   "metadata": {},
   "source": [
    "## Validation of efficiencies for a 1.4 TeV gluino and a 1300 GeV neutralino"
   ]
  },
  {
   "cell_type": "markdown",
   "metadata": {},
   "source": [
    "#### ATLAS Values"
   ]
  },
  {
   "cell_type": "code",
   "execution_count": 2,
   "metadata": {},
   "outputs": [],
   "source": [
    "nobs = 0\n",
    "bg = 0.02\n",
    "bg_error = 0.02\n",
    "lum = 32.7\n",
    "xsecSRlimit = 0.0914421298569*1e-3 #From  statistics.upperLimit(0,0.02,0.02,32.7)\n",
    "#gluino xsection at mgluino=1400: 25.2977*fb, weight for 1k events = 0.8272\n",
    "atlasULs = np.genfromtxt('../recastCode/ATLAS_data/HEPData-ins1630632-v2-csv/Table10.csv',\n",
    "                         delimiter=',',names=True,skip_header=10,skip_footer=45)"
   ]
  },
  {
   "cell_type": "code",
   "execution_count": 3,
   "metadata": {},
   "outputs": [
    {
     "name": "stdout",
     "output_type": "stream",
     "text": [
      "[(3.0000e-03, 0.739826  ) (1.0000e-02, 0.0205294 )\n",
      " (4.0000e-02, 0.00342003) (1.0000e-01, 0.00245111)\n",
      " (1.0000e+00, 0.00392301) (3.0000e+00, 0.00767325)\n",
      " (1.0000e+01, 0.0288558 ) (2.4538e+01, 0.0884243 )]\n"
     ]
    }
   ],
   "source": [
    "print(atlasULs)"
   ]
  },
  {
   "cell_type": "markdown",
   "metadata": {},
   "source": [
    "#### Recasting values"
   ]
  },
  {
   "cell_type": "code",
   "execution_count": 4,
   "metadata": {},
   "outputs": [],
   "source": [
    "#Get efficiencies\n",
    "recastULs = []\n",
    "for slhafile in glob.glob('mgluino1400_dm100/*.slha'):\n",
    "    #Get c*tau:\n",
    "    slhadata = pyslha.readSLHAFile(slhafile)\n",
    "    width = slhadata.decays[1000021].totalwidth\n",
    "    tau = (6.582e-25/width)/1e-9\n",
    "    eff = 0\n",
    "    #Get efficiency\n",
    "    with open(slhafile.replace('.slha','.eff'),'r') as effFile:\n",
    "        eff = [eval(x.split('Efficiency =')[1]) for x in effFile.read().split(',') if 'Efficiency' in x][0]\n",
    "    recastULs.append([tau,xsecSRlimit/eff])\n",
    "#Get upper limits:\n",
    "recastULs = np.array(sorted(recastULs))"
   ]
  },
  {
   "cell_type": "code",
   "execution_count": 5,
   "metadata": {},
   "outputs": [],
   "source": [
    "#Compute ratios\n",
    "ratio = np.array([[pt[0],recastULs[i][1]/pt[1]] for i,pt in enumerate(atlasULs)])"
   ]
  },
  {
   "cell_type": "markdown",
   "metadata": {},
   "source": [
    "#### Compare values"
   ]
  },
  {
   "cell_type": "code",
   "execution_count": 6,
   "metadata": {},
   "outputs": [
    {
     "data": {
      "image/png": "[encoded data removed]",
      "text/plain": [
       "<Figure size 432x288 with 2 Axes>"
      ]
     },
     "metadata": {
      "needs_background": "light"
     },
     "output_type": "display_data"
    }
   ],
   "source": [
    "#Define subplots and their properties:\n",
    "f, axarr = plt.subplots(2,sharex=True, gridspec_kw = {'height_ratios':[3, 1]})\n",
    "plt.subplots_adjust(left=0.12, bottom=0.12, right=0.97, top=None, wspace=None, hspace=0.1)\n",
    "\n",
    "#Plot curves\n",
    "axarr[0].plot(atlasULs['Lifetime_ns'],atlasULs['Observed_limit_pb'],'o-',color='black',linewidth=3.0,label='ATLAS')\n",
    "axarr[0].plot(recastULs[:,0],recastULs[:,1],'o--',color='red',linewidth=3.0,label='recast')\n",
    "axarr[0].set_ylabel(r'$\\sigma_{UL}$ (pb)', fontsize=18)\n",
    "axarr[0].set_yscale('log')\n",
    "axarr[0].set_xscale('log')\n",
    "\n",
    "#Plot ratio\n",
    "axarr[1].plot(ratio[:,0],ratio[:,1],color='red',linewidth=3.0)\n",
    "axarr[1].axhline(y=1.)\n",
    "axarr[1].set_ylabel('Ratio', fontsize=18) #Y-label\n",
    "axarr[1].set_xscale('log')\n",
    "axarr[1].set_xlabel(r'$\\tau$ (ns)', fontsize=18)\n",
    "axarr[1].set_ylim(0.,1.1)\n",
    "axarr[1].set_yticks([0.25,0.5,0.75,1.0])\n",
    "axarr[1].grid(True)\n",
    "axarr[0].legend(fontsize=18)\n",
    "f.tight_layout()\n",
    "plt.show()"
   ]
  },
  {
   "cell_type": "code",
   "execution_count": 8,
   "metadata": {},
   "outputs": [],
   "source": [
    "f.savefig('validationPlot_dm100.png')"
   ]
  },
  {
   "cell_type": "code",
   "execution_count": null,
   "metadata": {},
   "outputs": [],
   "source": []
  }
 ],
 "metadata": {
  "kernelspec": {
   "display_name": "Python 3",
   "language": "python",
   "name": "python3"
  },
  "language_info": {
   "codemirror_mode": {
    "name": "ipython",
    "version": 3
   },
   "file_extension": ".py",
   "mimetype": "text/x-python",
   "name": "python",
   "nbconvert_exporter": "python",
   "pygments_lexer": "ipython3",
   "version": "3.8.5"
  }
 },
 "nbformat": 4,
 "nbformat_minor": 2
}
